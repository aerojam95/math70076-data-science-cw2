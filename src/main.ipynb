{
 "cells": [
  {
   "cell_type": "code",
   "execution_count": 13,
   "metadata": {},
   "outputs": [],
   "source": [
    "#=============================================================================\n",
    "# Modules\n",
    "#=============================================================================\n",
    "\n",
    "# Standard modules\n",
    "import torch\n",
    "import matplotlib.pyplot as plt\n",
    "import pandas as pd\n",
    "import numpy as np\n",
    "import json\n",
    "import os\n",
    "\n",
    "# Custom modules\n",
    "from logger import logProgress\n",
    "from data_loader import loadImages, loadLabels"
   ]
  },
  {
   "cell_type": "code",
   "execution_count": 14,
   "metadata": {},
   "outputs": [],
   "source": [
    "#=============================================================================\n",
    "# Variables\n",
    "#=============================================================================\n",
    "\n",
    "# Path to the JSON metadata file\n",
    "metadataFilePath = \"configurations.json\"\n",
    "\n",
    "# Pixel normalisation value\n",
    "pixels = 255.\n",
    "\n",
    "# Seed for repeatable random initialisations\n",
    "seed = np.random.seed(123456789)"
   ]
  },
  {
   "cell_type": "code",
   "execution_count": 15,
   "metadata": {},
   "outputs": [
    {
     "name": "stdout",
     "output_type": "stream",
     "text": [
      "30 Apr 2024 20:03:27: Starting programme...\n",
      "30 Apr 2024 20:03:27: Importing metadata...\n",
      "30 Apr 2024 20:03:27: Imported metadata\n",
      "30 Apr 2024 20:03:27: Updating metadata file...\n",
      "30 Apr 2024 20:03:27: Updated metadata file\n",
      "30 Apr 2024 20:03:27: Loading data...\n",
      "30 Apr 2024 20:03:29: Loaded data\n",
      "30 Apr 2024 20:03:29: Pre-processing image data...\n",
      "30 Apr 2024 20:03:29: Pre-processed image data\n"
     ]
    }
   ],
   "source": [
    " # Logging\n",
    "logProgress(\"Starting programme...\")\n",
    "\n",
    "#==========================================================================\n",
    "# Data loading\n",
    "#==========================================================================\n",
    "\n",
    "# Reading the JSON configuration file\n",
    "logProgress(\"Importing metadata...\")\n",
    "with open(metadataFilePath, \"r\") as metadata_file:\n",
    "    jsonData = json.load(metadata_file)\n",
    "logProgress(\"Imported metadata\")\n",
    "\n",
    "# Setting metadata variables\n",
    "loggingName     = jsonData[\"loggingName\"]\n",
    "runNumber       = jsonData[\"runNumber\"]\n",
    "dataPath        = jsonData[\"dataPath\"]\n",
    "outputFigPath   = jsonData[\"outputFigPath\"]\n",
    "outputValPath   = jsonData[\"outputValPath\"]\n",
    "outputModelPath = jsonData[\"outputModelPath\"]\n",
    "\n",
    "# Update metadata file for next run\n",
    "logProgress(\"Updating metadata file...\")\n",
    "jsonData[\"runNumber\"] = str(int(runNumber) + 1)\n",
    "with open(metadataFilePath, 'w') as metadata_file:\n",
    "    json.dump(jsonData, metadata_file, indent=4)\n",
    "logProgress(\"Updated metadata file\")\n",
    "\n",
    "# Paths to the downloaded data files\n",
    "trainImagesPath = os.path.join(dataPath, \"train-images-idx3-ubyte.gz\")\n",
    "trainLabelsPath = os.path.join(dataPath, \"train-labels-idx1-ubyte.gz\")\n",
    "testImagesPath  = os.path.join(dataPath, \"t10k-images-idx3-ubyte.gz\")\n",
    "testLabelsPath  = os.path.join(dataPath, \"t10k-labels-idx1-ubyte.gz\")\n",
    "\n",
    "# Load the datasets\n",
    "logProgress(\"Loading data...\")\n",
    "trainImages = loadImages(trainImagesPath)\n",
    "trainLabels = loadLabels(trainLabelsPath)\n",
    "testImages  = loadImages(testImagesPath)\n",
    "testLabels  = loadLabels(testLabelsPath)\n",
    "logProgress(\"Loaded data\")\n",
    "\n",
    "\n",
    "#==========================================================================\n",
    "# Data pre-processing\n",
    "#==========================================================================\n",
    "\n",
    "# pre-process images\n",
    "logProgress(\"Pre-processing image data...\")\n",
    "trainImages = trainImages.reshape(trainImages.shape[0], -1) / pixels\n",
    "testImages = testImages.reshape(testImages.shape[0], -1) / pixels\n",
    "logProgress(\"Pre-processed image data\")"
   ]
  },
  {
   "cell_type": "code",
   "execution_count": 18,
   "metadata": {},
   "outputs": [
    {
     "name": "stdout",
     "output_type": "stream",
     "text": [
      "30 Apr 2024 20:06:17: Running Naive-Bayes...\n"
     ]
    },
    {
     "ename": "IndexError",
     "evalue": "too many indices for array: array is 1-dimensional, but 2 were indexed",
     "output_type": "error",
     "traceback": [
      "\u001b[0;31m---------------------------------------------------------------------------\u001b[0m",
      "\u001b[0;31mIndexError\u001b[0m                                Traceback (most recent call last)",
      "Cell \u001b[0;32mIn[18], line 7\u001b[0m\n\u001b[1;32m      5\u001b[0m logProgress(\u001b[38;5;124m\"\u001b[39m\u001b[38;5;124mRunning Naive-Bayes...\u001b[39m\u001b[38;5;124m\"\u001b[39m)\n\u001b[1;32m      6\u001b[0m GNB \u001b[38;5;241m=\u001b[39m GaussianNaiveBayes()\n\u001b[0;32m----> 7\u001b[0m \u001b[43mGNB\u001b[49m\u001b[38;5;241;43m.\u001b[39;49m\u001b[43mrun\u001b[49m\u001b[43m(\u001b[49m\u001b[43mtrainImages\u001b[49m\u001b[43m,\u001b[49m\u001b[43m \u001b[49m\u001b[43mtrainLabels\u001b[49m\u001b[43m,\u001b[49m\u001b[43m \u001b[49m\u001b[43mtestImages\u001b[49m\u001b[43m,\u001b[49m\u001b[43m \u001b[49m\u001b[43mtestLabels\u001b[49m\u001b[43m)\u001b[49m\n\u001b[1;32m      8\u001b[0m logProgress(\u001b[38;5;124m\"\u001b[39m\u001b[38;5;124mNaive-Bayes completed\u001b[39m\u001b[38;5;124m\"\u001b[39m)\n\u001b[1;32m     10\u001b[0m GNB\u001b[38;5;241m.\u001b[39msaveModel(\u001b[38;5;124mf\u001b[39m\u001b[38;5;124m\"\u001b[39m\u001b[38;5;132;01m{\u001b[39;00moutputModelPath\u001b[38;5;132;01m}\u001b[39;00m\u001b[38;5;124mnaive_bayes_model_parameters_\u001b[39m\u001b[38;5;132;01m{\u001b[39;00mrunNumber\u001b[38;5;132;01m}\u001b[39;00m\u001b[38;5;124m.txt\u001b[39m\u001b[38;5;124m\"\u001b[39m)\n",
      "File \u001b[0;32m/mnt/d/Google Drive/Documents/Education/University/Imperial College London/Statistics & Data Science Msc 2023-2024/Term 2/math70076-data-science-cw2/src/gnb.py:55\u001b[0m, in \u001b[0;36mGaussianNaiveBayes.run\u001b[0;34m(self, trainImages, trainLabels, valImages, valLabels)\u001b[0m\n\u001b[1;32m     53\u001b[0m \u001b[38;5;28;01mfor\u001b[39;00m category \u001b[38;5;129;01min\u001b[39;00m \u001b[38;5;28mself\u001b[39m\u001b[38;5;241m.\u001b[39mclasses:\n\u001b[1;32m     54\u001b[0m     sep \u001b[38;5;241m=\u001b[39m [\u001b[38;5;28mself\u001b[39m\u001b[38;5;241m.\u001b[39mtrainLabels \u001b[38;5;241m==\u001b[39m category] \n\u001b[0;32m---> 55\u001b[0m     \u001b[38;5;28mself\u001b[39m\u001b[38;5;241m.\u001b[39mcount\u001b[38;5;241m.\u001b[39mappend(\u001b[38;5;28mlen\u001b[39m(\u001b[38;5;28;43mself\u001b[39;49m\u001b[38;5;241;43m.\u001b[39;49m\u001b[43mtrainLabels\u001b[49m\u001b[43m[\u001b[49m\u001b[43msep\u001b[49m\u001b[43m]\u001b[49m))\n\u001b[1;32m     56\u001b[0m     \u001b[38;5;28mself\u001b[39m\u001b[38;5;241m.\u001b[39mprior\u001b[38;5;241m.\u001b[39mappend(\u001b[38;5;28mlen\u001b[39m(\u001b[38;5;28mself\u001b[39m\u001b[38;5;241m.\u001b[39mtrainLabels[sep]) \u001b[38;5;241m/\u001b[39m \u001b[38;5;28mlen\u001b[39m(\u001b[38;5;28mself\u001b[39m\u001b[38;5;241m.\u001b[39mtrainLabels))\n\u001b[1;32m     57\u001b[0m     \u001b[38;5;28mself\u001b[39m\u001b[38;5;241m.\u001b[39mm\u001b[38;5;241m.\u001b[39mappend(np\u001b[38;5;241m.\u001b[39mmean(\u001b[38;5;28mself\u001b[39m\u001b[38;5;241m.\u001b[39mtrainImages[sep], axis\u001b[38;5;241m=\u001b[39m\u001b[38;5;241m0\u001b[39m))\n",
      "\u001b[0;31mIndexError\u001b[0m: too many indices for array: array is 1-dimensional, but 2 were indexed"
     ]
    }
   ],
   "source": [
    "# Gaussian Naive-Bayes\n",
    "\n",
    "from gnb import GaussianNaiveBayes\n",
    "\n",
    "logProgress(\"Running Naive-Bayes...\")\n",
    "GNB = GaussianNaiveBayes()\n",
    "GNB.run(trainImages, trainLabels, testImages, testLabels)\n",
    "logProgress(\"Naive-Bayes completed\")\n",
    "\n",
    "GNB.saveModel(f\"{outputModelPath}naive_bayes_model_parameters_{runNumber}.txt\")\n",
    "logProgress(\"Naive-Bayes model saved\")\n",
    "\n",
    "GNB.saveValidation(f\"{outputValPath}naive_bayes_validation_results_{runNumber}.txt\")\n",
    "logProgress(\"Naive-Bayes validation accuracy saved\")"
   ]
  }
 ],
 "metadata": {
  "kernelspec": {
   "display_name": "mscDataScienceEnv",
   "language": "python",
   "name": "python3"
  },
  "language_info": {
   "codemirror_mode": {
    "name": "ipython",
    "version": 3
   },
   "file_extension": ".py",
   "mimetype": "text/x-python",
   "name": "python",
   "nbconvert_exporter": "python",
   "pygments_lexer": "ipython3",
   "version": "3.11.2"
  }
 },
 "nbformat": 4,
 "nbformat_minor": 2
}
